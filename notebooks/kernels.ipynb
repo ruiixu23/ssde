{
 "cells": [
  {
   "cell_type": "code",
   "execution_count": null,
   "metadata": {
    "collapsed": true
   },
   "outputs": [],
   "source": [
    "# %load init.py\n",
    "import os\n",
    "import pickle\n",
    "import sys\n",
    "# Enable module import from the parent directory from notebooks\n",
    "sys.path.append(os.path.abspath('..'))\n",
    "import time\n",
    "\n",
    "import matplotlib as mpl\n",
    "# Select plotting backend\n",
    "mpl.use('nbAgg')\n",
    "\n",
    "import matplotlib.pyplot as plt\n",
    "# Customize plotting\n",
    "plt.style.use('seaborn-paper')\n",
    "plt.rcParams['axes.labelpad'] = 2.0\n",
    "plt.rcParams['axes.labelsize'] = 9.0\n",
    "plt.rcParams['axes.titleweight'] = 'semibold'\n",
    "plt.rcParams['axes.titlesize'] = 11.0\n",
    "plt.rcParams['errorbar.capsize'] = 5.\n",
    "plt.rcParams['figure.dpi'] = 72.0\n",
    "plt.rcParams['lines.linewidth'] = 1.\n",
    "plt.rcParams['xtick.labelsize'] = 9.0\n",
    "plt.rcParams['ytick.labelsize'] = 9.0\n",
    "\n",
    "import numpy as np\n",
    "import sympy as sp\n",
    "sp.init_printing(euler=True, use_latex=True)\n",
    "\n",
    "from IPython import display\n",
    "from scipy import io, optimize\n",
    "\n",
    "import core\n",
    "import dynamicals\n",
    "import kernels\n",
    "import numericals\n",
    "import utils"
   ]
  },
  {
   "cell_type": "code",
   "execution_count": null,
   "metadata": {
    "collapsed": true
   },
   "outputs": [],
   "source": [
    "def run(kernel, x, phi):\n",
    "    print('Kernel function:')\n",
    "    display.display(kernel.K)    \n",
    "    C = kernel.C_func(x[:, np.newaxis], x[np.newaxis, :], phi)\n",
    "    utils.plot_kernel(x, C)"
   ]
  },
  {
   "cell_type": "code",
   "execution_count": null,
   "metadata": {
    "collapsed": true
   },
   "outputs": [],
   "source": [
    "print('Supported kernels:')\n",
    "print(', '.join(kernels.KernelFactory.supported_kernels()))"
   ]
  },
  {
   "cell_type": "markdown",
   "metadata": {},
   "source": [
    "# Linear Kernel"
   ]
  },
  {
   "cell_type": "code",
   "execution_count": null,
   "metadata": {
    "collapsed": true
   },
   "outputs": [],
   "source": [
    "kernel = kernels.KernelFactory.get_kernel('linear')\n",
    "x = utils.create_time_points(0, 4, 25)\n",
    "phi = np.array([1, 1, 1])\n",
    "\n",
    "run(kernel, x, phi)"
   ]
  },
  {
   "cell_type": "markdown",
   "metadata": {},
   "source": [
    "# Locally Periodic Kernel"
   ]
  },
  {
   "cell_type": "code",
   "execution_count": null,
   "metadata": {
    "collapsed": true
   },
   "outputs": [],
   "source": [
    "kernel = kernels.KernelFactory.get_kernel('locally_periodic')\n",
    "x = utils.create_time_points(0, 4, 25)\n",
    "phi = np.array([2.5, 2, 0.25])\n",
    "\n",
    "run(kernel, x, phi)"
   ]
  },
  {
   "cell_type": "markdown",
   "metadata": {},
   "source": [
    "# Periodic Kernel"
   ]
  },
  {
   "cell_type": "code",
   "execution_count": null,
   "metadata": {
    "collapsed": true
   },
   "outputs": [],
   "source": [
    "kernel = kernels.KernelFactory.get_kernel('periodic')\n",
    "x = utils.create_time_points(0, 4, 25)\n",
    "phi = np.array([4, 2, 0.25])\n",
    "\n",
    "run(kernel, x, phi)"
   ]
  },
  {
   "cell_type": "markdown",
   "metadata": {},
   "source": [
    "# Polynomial Kernel"
   ]
  },
  {
   "cell_type": "code",
   "execution_count": null,
   "metadata": {
    "collapsed": true
   },
   "outputs": [],
   "source": [
    "kernel = kernels.KernelFactory.get_kernel('polynomial')\n",
    "x = utils.create_time_points(0, 4, 25)\n",
    "phi = np.array([2., 2.])\n",
    "\n",
    "run(kernel, x, phi)"
   ]
  },
  {
   "cell_type": "markdown",
   "metadata": {},
   "source": [
    "# RBF Kernel"
   ]
  },
  {
   "cell_type": "code",
   "execution_count": null,
   "metadata": {
    "collapsed": true
   },
   "outputs": [],
   "source": [
    "kernel = kernels.KernelFactory.get_kernel('rbf')\n",
    "x = utils.create_time_points(0, 4, 50)\n",
    "phi = np.array([5., 0.1])\n",
    "\n",
    "run(kernel, x, phi)"
   ]
  },
  {
   "cell_type": "markdown",
   "metadata": {},
   "source": [
    "# Sigmoid Kernel"
   ]
  },
  {
   "cell_type": "code",
   "execution_count": null,
   "metadata": {
    "collapsed": true,
    "scrolled": false
   },
   "outputs": [],
   "source": [
    "kernel = kernels.KernelFactory.get_kernel('sigmoid')\n",
    "x = utils.create_time_points(0, 100, 1)\n",
    "phi = np.array([.18, .6, 30.])\n",
    "\n",
    "run(kernel, x, phi)"
   ]
  },
  {
   "cell_type": "code",
   "execution_count": null,
   "metadata": {
    "collapsed": true
   },
   "outputs": [],
   "source": []
  }
 ],
 "metadata": {
  "kernelspec": {
   "display_name": "Python 3",
   "language": "python",
   "name": "python3"
  },
  "language_info": {
   "codemirror_mode": {
    "name": "ipython",
    "version": 3
   },
   "file_extension": ".py",
   "mimetype": "text/x-python",
   "name": "python",
   "nbconvert_exporter": "python",
   "pygments_lexer": "ipython3",
   "version": "3.6.2"
  }
 },
 "nbformat": 4,
 "nbformat_minor": 2
}
