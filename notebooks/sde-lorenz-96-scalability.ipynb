{
 "cells": [
  {
   "cell_type": "code",
   "execution_count": null,
   "metadata": {
    "collapsed": true
   },
   "outputs": [],
   "source": [
    "# %load init.py\n",
    "import os\n",
    "import pickle\n",
    "import sys\n",
    "# Enable module import from the parent directory from notebooks\n",
    "sys.path.append(os.path.abspath('..'))\n",
    "import time\n",
    "\n",
    "import matplotlib as mpl\n",
    "# Select plotting backend\n",
    "mpl.use('nbAgg')\n",
    "\n",
    "import matplotlib.pyplot as plt\n",
    "# Customize plotting\n",
    "plt.style.use('seaborn-paper')\n",
    "plt.rcParams['axes.labelsize'] = 11.0\n",
    "plt.rcParams['axes.titlesize'] = 12.0\n",
    "plt.rcParams['errorbar.capsize'] = 3.0\n",
    "plt.rcParams['figure.dpi'] = 72.0\n",
    "plt.rcParams['figure.titlesize'] = 12.0\n",
    "plt.rcParams['legend.fontsize'] = 10.\n",
    "plt.rcParams['lines.linewidth'] = 1.\n",
    "plt.rcParams['xtick.labelsize'] = 11.0\n",
    "plt.rcParams['ytick.labelsize'] = 11.0\n",
    "\n",
    "import numpy as np\n",
    "import sympy as sp\n",
    "sp.init_printing(euler=True, use_latex=True)\n",
    "\n",
    "from IPython import display\n",
    "from scipy import io, optimize\n",
    "from sklearn import metrics\n",
    "\n",
    "import core\n",
    "import dynamicals\n",
    "import kernels\n",
    "import numericals\n",
    "import utils"
   ]
  },
  {
   "cell_type": "code",
   "execution_count": null,
   "metadata": {
    "collapsed": true
   },
   "outputs": [],
   "source": [
    "dynamical = dynamicals.Lorenz96(500)"
   ]
  },
  {
   "cell_type": "markdown",
   "metadata": {},
   "source": [
    "# Example\n",
    "Run the inference algorithm"
   ]
  },
  {
   "cell_type": "code",
   "execution_count": null,
   "metadata": {
    "collapsed": true
   },
   "outputs": [],
   "source": [
    "config = core.Config()\n",
    "config.create_time(0, 4, 80, 0, 4, 8, 0, 4, 8)\n",
    "config.X_0 = np.random.random(dynamical.num_x) * 8.\n",
    "config.theta = np.array([8.]) \n",
    "config.rho_2 = np.full(dynamical.num_x, 4.) \n",
    "\n",
    "config.phi = [\n",
    "    # (Kernal name, Kernal parameters)\n",
    "    ('rbf', np.array([4.2, 0.1]))\n",
    "] * dynamical.num_x\n",
    "config.sigma_2 = np.full(dynamical.num_x, 1.) \n",
    "config.delta = np.full(dynamical.num_x, True)\n",
    "config.delta[np.random.permutation(dynamical.num_x)[:int(0.35 * dynamical.num_x)]] = False\n",
    "config.gamma = np.full(dynamical.num_x, 5e-2) \n",
    "config.gamma[config.delta] = 1e-1\n",
    "\n",
    "config.opt_method = 'Newton-CG'\n",
    "config.opt_tol = 1e-6\n",
    "config.max_init_iter = 10\n",
    "config.max_iter = 1000\n",
    "\n",
    "config.plotting_enabled = True\n",
    "config.plotting_freq = 50\n",
    "\n",
    "config.debug = False\n",
    "\n",
    "config.spl_X = dynamical.generate_sample_path(config.theta, config.rho_2, config.X_0, config.spl_tps)\n",
    "config.obs_Y = utils.collect_observations(config.spl_X, config.obs_t_indices, config.sigma_2)\n",
    "\n",
    "gp = core.GaussianProcessRegression(dynamical, config)\n",
    "gp.run()\n",
    "\n",
    "lpmf = core.LaplaceMeanFieldSDE(dynamical, config, gp)\n",
    "lpmf.run()"
   ]
  },
  {
   "cell_type": "markdown",
   "metadata": {},
   "source": [
    "# Experiment\n",
    "Setup for the experiment"
   ]
  },
  {
   "cell_type": "code",
   "execution_count": null,
   "metadata": {
    "collapsed": true
   },
   "outputs": [],
   "source": [
    "sde_directory = '../data/sde-lorenz-96-scalability/sde-x-{}/'\n",
    "ode_directory = '../data/sde-lorenz-96-scalability/ode-x-{}/'\n",
    "\n",
    "config_filename = utils.CONFIG_FILENAME\n",
    "data_filename = utils.DATA_FILENAME\n",
    "\n",
    "num_states = [25, 50, 100, 200, 400, 800]\n",
    "num_repetitions = 10"
   ]
  },
  {
   "cell_type": "markdown",
   "metadata": {},
   "source": [
    "Plot the runtime"
   ]
  },
  {
   "cell_type": "code",
   "execution_count": null,
   "metadata": {
    "collapsed": true
   },
   "outputs": [],
   "source": [
    "sde_runtime_mean = []\n",
    "sde_runtime_var = []\n",
    "ode_runtime_mean = []\n",
    "ode_runtime_var = []\n",
    "\n",
    "for num_state in num_states:\n",
    "    # Load data\n",
    "    config = core.Config()\n",
    "    config.load_config(sde_directory.format(num_state), config_filename)\n",
    "    \n",
    "    # Load data from LPMF-SDE\n",
    "    data = []\n",
    "    for i in range(1, num_repetitions + 1):\n",
    "        tmp = utils.load_data(sde_directory.format(num_state), data_filename.format(i))\n",
    "        if not np.alltrue(tmp['eta_theta'] > 0):\n",
    "            raise RuntimeError('Negative theta value encountered for rode {}'.format(i))\n",
    "        data.append(tmp)\n",
    "    \n",
    "    sde_runtime_mean.append(utils.get_runtime_mean(data))\n",
    "    sde_runtime_var.append(utils.get_runtime_var(data))\n",
    "\n",
    "for num_state in num_states:\n",
    "    # Load data\n",
    "    config = core.Config()\n",
    "    config.load_config(ode_directory.format(num_state), config_filename)\n",
    "    \n",
    "    # Load data from LPMF-SDE\n",
    "    data = []\n",
    "    for i in range(1, num_repetitions + 1):\n",
    "        tmp = utils.load_data(ode_directory.format(num_state), data_filename.format(i))\n",
    "        if not np.alltrue(tmp['eta_theta'] > 0):\n",
    "            raise RuntimeError('Negative theta value encountered for rode {}'.format(i))\n",
    "        data.append(tmp)\n",
    "    \n",
    "    ode_runtime_mean.append(utils.get_runtime_mean(data))\n",
    "    ode_runtime_var.append(utils.get_runtime_var(data))\n",
    "\n",
    "figure = plt.figure(figsize=plt.figaspect(0.4))\n",
    "ax = plt.gca()\n",
    "ax.errorbar(num_states, sde_runtime_mean, color='C0', linestyle='-', linewidth=1.5, label='LPMF-SDE', \n",
    "            yerr=np.sqrt(sde_runtime_var), ecolor='0', elinewidth=1., capsize=3., capthick=.5)\n",
    "ax.errorbar(num_states, ode_runtime_mean, color='C1', linestyle='-.', linewidth=1.5, label='LPMF', \n",
    "            yerr=np.sqrt(ode_runtime_var), ecolor='0', elinewidth=1., capsize=3., capthick=.5)\n",
    "ax.set_ylabel('Runtime (s)', fontsize=14)\n",
    "ax.set_xlabel('Number of States', fontsize=14)\n",
    "ax.set_xlim([0, 810])\n",
    "ax.set_ylim([0, None])\n",
    "handles, labels = ax.get_legend_handles_labels()\n",
    "ax.legend(handles=handles, labels=labels, loc=0)\n",
    "figure.tight_layout()\n",
    "plt.show()\n",
    "figure.savefig('lorenz-96-scalability.eps', format='eps', dpi=1000, bbox_inches='tight')"
   ]
  },
  {
   "cell_type": "code",
   "execution_count": null,
   "metadata": {
    "collapsed": true
   },
   "outputs": [],
   "source": [
    "# Helper to generate config files\n",
    "sde_directory = '../data/sde-lorenz-96-scalability/sde-x-{}/'\n",
    "ode_directory = '../data/sde-lorenz-96-scalability/ode-x-{}/'\n",
    "\n",
    "for num_state in num_states:\n",
    "    dynamical = dynamicals.Lorenz96(num_state)\n",
    "    config = core.Config()\n",
    "    config.create_time(0, 4, 80, 0, 4, 8, 0, 4, 8)\n",
    "    config.X_0 = np.random.random(dynamical.num_x) * 8.\n",
    "    config.theta = np.array([8.]) \n",
    "    config.rho_2 = np.full(dynamical.num_x, 4.) \n",
    "\n",
    "    config.phi = [\n",
    "        # (Kernal name, Kernal parameters)\n",
    "        ('rbf', np.array([4.2, 0.1]))\n",
    "    ] * dynamical.num_x\n",
    "    config.sigma_2 = np.full(dynamical.num_x, 1.) \n",
    "    config.delta = np.full(dynamical.num_x, True)\n",
    "    config.delta[np.random.permutation(dynamical.num_x)[:int(0.35 * dynamical.num_x)]] = False\n",
    "    config.gamma = np.full(dynamical.num_x, 5e-2) \n",
    "    config.gamma[config.delta] = 1e-1\n",
    "\n",
    "    config.opt_method = 'Newton-CG'\n",
    "    config.opt_tol = 1e-6\n",
    "    config.max_init_iter = 10\n",
    "    config.max_iter = 1000\n",
    "\n",
    "    config.plotting_enabled = True\n",
    "    config.plotting_freq = 50\n",
    "    \n",
    "    config.debug = False\n",
    "\n",
    "    config.spl_X = dynamical.generate_sample_path(config.theta, config.rho_2, config.X_0, config.spl_tps)\n",
    "    config.obs_Y = utils.collect_observations(config.spl_X, config.obs_t_indices, config.sigma_2)\n",
    "    \n",
    "    config.save_config(sde_directory.format(num_state), config_filename)\n",
    "    \n",
    "    config.rho_2 = None\n",
    "    config.save_config(ode_directory.format(num_state), config_filename)"
   ]
  }
 ],
 "metadata": {
  "kernelspec": {
   "display_name": "Python 3",
   "language": "python",
   "name": "python3"
  },
  "language_info": {
   "codemirror_mode": {
    "name": "ipython",
    "version": 3
   },
   "file_extension": ".py",
   "mimetype": "text/x-python",
   "name": "python",
   "nbconvert_exporter": "python",
   "pygments_lexer": "ipython3",
   "version": "3.6.2"
  }
 },
 "nbformat": 4,
 "nbformat_minor": 2
}
