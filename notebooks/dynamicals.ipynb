{
 "cells": [
  {
   "cell_type": "code",
   "execution_count": null,
   "metadata": {
    "collapsed": true
   },
   "outputs": [],
   "source": [
    "# %load init.py\n",
    "import os\n",
    "import pickle\n",
    "import sys\n",
    "# Enable module import from the parent directory from notebooks\n",
    "sys.path.append(os.path.abspath('..'))\n",
    "import time\n",
    "\n",
    "import matplotlib as mpl\n",
    "# Select plotting backend\n",
    "mpl.use('nbAgg')\n",
    "\n",
    "import matplotlib.pyplot as plt\n",
    "# Customize plotting\n",
    "plt.style.use('seaborn-paper')\n",
    "plt.rcParams['axes.labelsize'] = 11.0\n",
    "plt.rcParams['axes.titlesize'] = 12.0\n",
    "plt.rcParams['errorbar.capsize'] = 3.0\n",
    "plt.rcParams['figure.dpi'] = 72.0\n",
    "plt.rcParams['figure.titlesize'] = 12.0\n",
    "plt.rcParams['legend.fontsize'] = 10.\n",
    "plt.rcParams['lines.linewidth'] = 1.\n",
    "plt.rcParams['xtick.labelsize'] = 11.0\n",
    "plt.rcParams['ytick.labelsize'] = 11.0\n",
    "\n",
    "import numpy as np\n",
    "import sympy as sp\n",
    "sp.init_printing(euler=True, use_latex=True)\n",
    "\n",
    "from IPython import display\n",
    "from scipy import io, optimize\n",
    "from sklearn import metrics\n",
    "\n",
    "import core\n",
    "import dynamicals\n",
    "import kernels\n",
    "import numericals\n",
    "import utils"
   ]
  },
  {
   "cell_type": "code",
   "execution_count": null,
   "metadata": {
    "collapsed": true
   },
   "outputs": [],
   "source": [
    "def run(dynamical, theta, rho_2, sigma_2, X_0, t_0, t_T, spl_freq, obs_freq):\n",
    "    random_state = np.random.get_state()\n",
    "    np.random.seed(0)\n",
    "\n",
    "    spl_tps, obs_tps, obs_t_indices, _, _ = utils.create_time(\n",
    "        t_0, t_T, spl_freq, t_0, t_T, obs_freq, t_0, t_T, obs_freq)\n",
    "    spl_X = dynamical.generate_sample_path(theta, rho_2, X_0, spl_tps)\n",
    "    obs_Y = utils.collect_observations(spl_X, obs_t_indices, sigma_2)\n",
    "    \n",
    "    utils.plot_states(dynamical, spl_X, spl_tps, obs_Y, obs_tps)\n",
    "    \n",
    "    np.random.set_state(random_state)\n",
    "    return spl_X, spl_tps, obs_Y, obs_tps"
   ]
  },
  {
   "cell_type": "markdown",
   "metadata": {},
   "source": [
    "# Double-Well"
   ]
  },
  {
   "cell_type": "code",
   "execution_count": null,
   "metadata": {
    "scrolled": false
   },
   "outputs": [],
   "source": [
    "dynamical = dynamicals.DoubleWell()\n",
    "theta = np.array([1.])\n",
    "rho_2 = np.array([2.])\n",
    "sigma_2 = np.array([0.4])\n",
    "X_0 = np.array([1.])\n",
    "t_0 = 0\n",
    "t_T = 8\n",
    "spl_freq = 100\n",
    "obs_freq = 10\n",
    "_ = run(dynamical, theta, rho_2, sigma_2, X_0, t_0, t_T, spl_freq, obs_freq)"
   ]
  },
  {
   "cell_type": "markdown",
   "metadata": {},
   "source": [
    "# FitzHugh-Nagumo"
   ]
  },
  {
   "cell_type": "code",
   "execution_count": null,
   "metadata": {
    "collapsed": true
   },
   "outputs": [],
   "source": [
    "dynamical = dynamicals.FitzHughNagumo()\n",
    "theta = np.array([.2, .2, 3.])\n",
    "rho_2 = None\n",
    "sigma_2 = np.array([0.01, 0.01])\n",
    "X_0 = np.array([-1., 1.])\n",
    "t_0 = 0\n",
    "t_T = 10\n",
    "spl_freq = 20\n",
    "obs_freq = 1\n",
    "_ = run(dynamical, theta, rho_2, sigma_2, X_0, t_0, t_T, spl_freq, obs_freq)"
   ]
  },
  {
   "cell_type": "markdown",
   "metadata": {},
   "source": [
    "# Glucose Uptake Yeast"
   ]
  },
  {
   "cell_type": "code",
   "execution_count": null,
   "metadata": {
    "collapsed": true
   },
   "outputs": [],
   "source": [
    "dynamical = dynamicals.GlucoseUptakeYeast()\n",
    "theta = np.array([0.1, 0., 0.4, 0., 0.3, 0., 0.7, 0., 0., 0.])\n",
    "rho_2 = None\n",
    "sigma_2 = np.full(dynamical.num_x, 0.0001)\n",
    "X_0 = np.full(dynamical.num_x, 1.)\n",
    "t_0 = 0\n",
    "t_T = 15\n",
    "spl_freq = 10\n",
    "obs_freq = 1\n",
    "_ = run(dynamical, theta, rho_2, sigma_2, X_0, t_0, t_T, spl_freq, obs_freq)"
   ]
  },
  {
   "cell_type": "markdown",
   "metadata": {},
   "source": [
    "# Lorenz 63"
   ]
  },
  {
   "cell_type": "code",
   "execution_count": null,
   "metadata": {
    "scrolled": false
   },
   "outputs": [],
   "source": [
    "dynamical = dynamicals.Lorenz63()\n",
    "theta = np.array([10., 28., 8. / 3])\n",
    "rho_2 = np.full(dynamical.num_x, 10.)\n",
    "sigma_2 = np.full(dynamical.num_x, 2.)\n",
    "X_0 = np.array([-7., -7., -7.])\n",
    "t_0 = 0\n",
    "t_T = 20\n",
    "spl_freq = 100\n",
    "obs_freq = 5\n",
    "spl_X, spl_tps, obs_Y, obs_tps = run(\n",
    "    dynamical, theta, rho_2, sigma_2, X_0, t_0, t_T, spl_freq, obs_freq)\n",
    "utils.plot_states_lorenz_63(dynamical, spl_X, obs_Y, None)"
   ]
  },
  {
   "cell_type": "markdown",
   "metadata": {},
   "source": [
    "# Lorenz 96"
   ]
  },
  {
   "cell_type": "code",
   "execution_count": null,
   "metadata": {
    "collapsed": true,
    "scrolled": false
   },
   "outputs": [],
   "source": [
    "dynamical = dynamicals.Lorenz96(20)\n",
    "theta = np.array([8.])\n",
    "rho_2 = np.full(dynamical.num_x, 4.0)\n",
    "sigma_2 = np.full(dynamical.num_x, 1.0)\n",
    "X_0 = np.random.random(dynamical.num_x) * 10.\n",
    "t_0 = 0\n",
    "t_T = 4\n",
    "spl_freq = 100\n",
    "obs_freq = 10\n",
    "_ = run(dynamical, theta, rho_2, sigma_2, X_0, t_0, t_T, spl_freq, obs_freq)"
   ]
  },
  {
   "cell_type": "markdown",
   "metadata": {},
   "source": [
    "# Lotka-Volterra"
   ]
  },
  {
   "cell_type": "code",
   "execution_count": null,
   "metadata": {
    "collapsed": true,
    "scrolled": false
   },
   "outputs": [],
   "source": [
    "dynamical = dynamicals.LotkaVolterra()\n",
    "theta = np.array([2., 1., 1., 4.])\n",
    "rho_2 = None\n",
    "sigma_2 = np.array([0.5, 0.5])\n",
    "X_0 = np.array([5., 3.])\n",
    "t_0 = 0\n",
    "t_T = 2\n",
    "spl_freq = 10\n",
    "obs_freq = 10\n",
    "_ = run(dynamical, theta, rho_2, sigma_2, X_0, t_0, t_T, spl_freq, obs_freq)"
   ]
  },
  {
   "cell_type": "markdown",
   "metadata": {},
   "source": [
    "# Ornstein-Uhlenbeck"
   ]
  },
  {
   "cell_type": "code",
   "execution_count": null,
   "metadata": {
    "collapsed": true
   },
   "outputs": [],
   "source": [
    "dynamical = dynamicals.OrnsteinUhlenbeck()\n",
    "theta = np.array([1., 10.])\n",
    "rho_2 = np.array([4.])\n",
    "sigma_2 = np.array([1.])\n",
    "X_0 = np.random.normal(theta[1], np.sqrt(rho_2[0] / (2 * theta[0])), 1)\n",
    "t_0 = 0\n",
    "t_T = 50\n",
    "spl_freq = 20\n",
    "obs_freq = 1\n",
    "_ = run(dynamical, theta, rho_2, sigma_2, X_0, t_0, t_T, spl_freq, obs_freq)"
   ]
  },
  {
   "cell_type": "markdown",
   "metadata": {
    "collapsed": true
   },
   "source": [
    "# Protein Signalling Tranduction (Model 1)"
   ]
  },
  {
   "cell_type": "code",
   "execution_count": null,
   "metadata": {
    "collapsed": true
   },
   "outputs": [],
   "source": [
    "dynamical = dynamicals.ProteinSignallingTransduction()\n",
    "theta = np.array([0.07, 0.6, 0.05, 0.3, 0.017]) \n",
    "rho_2 = None\n",
    "sigma_2 = np.full(dynamical.num_x, 1e-4) \n",
    "X_0 = np.array([1., 0., 1., 0., 0.]) \n",
    "t_0 = 0\n",
    "t_T = 101\n",
    "spl_freq = 100\n",
    "obs_freq = 1\n",
    "_ = run(dynamical, theta, rho_2, sigma_2, X_0, t_0, t_T, spl_freq, obs_freq)"
   ]
  },
  {
   "cell_type": "code",
   "execution_count": null,
   "metadata": {
    "collapsed": true
   },
   "outputs": [],
   "source": []
  }
 ],
 "metadata": {
  "kernelspec": {
   "display_name": "Python 3",
   "language": "python",
   "name": "python3"
  },
  "language_info": {
   "codemirror_mode": {
    "name": "ipython",
    "version": 3
   },
   "file_extension": ".py",
   "mimetype": "text/x-python",
   "name": "python",
   "nbconvert_exporter": "python",
   "pygments_lexer": "ipython3",
   "version": "3.6.2"
  }
 },
 "nbformat": 4,
 "nbformat_minor": 2
}
