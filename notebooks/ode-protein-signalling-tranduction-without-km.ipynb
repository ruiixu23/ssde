{
 "cells": [
  {
   "cell_type": "code",
   "execution_count": null,
   "metadata": {
    "collapsed": true
   },
   "outputs": [],
   "source": [
    "# %load init.py\n",
    "import os\n",
    "import pickle\n",
    "import sys\n",
    "# Enable module import from the parent directory from notebooks\n",
    "sys.path.append(os.path.abspath('..'))\n",
    "import time\n",
    "\n",
    "import matplotlib as mpl\n",
    "# Select plotting backend\n",
    "mpl.use('nbAgg')\n",
    "\n",
    "import matplotlib.pyplot as plt\n",
    "# Customize plotting\n",
    "plt.style.use('seaborn-paper')\n",
    "plt.rcParams['axes.labelsize'] = 11.0\n",
    "plt.rcParams['axes.titlesize'] = 12.0\n",
    "plt.rcParams['errorbar.capsize'] = 3.0\n",
    "plt.rcParams['figure.dpi'] = 72.0\n",
    "plt.rcParams['figure.titlesize'] = 12.0\n",
    "plt.rcParams['legend.fontsize'] = 10.\n",
    "plt.rcParams['lines.linewidth'] = 1.\n",
    "plt.rcParams['xtick.labelsize'] = 11.0\n",
    "plt.rcParams['ytick.labelsize'] = 11.0\n",
    "\n",
    "import numpy as np\n",
    "import sympy as sp\n",
    "sp.init_printing(euler=True, use_latex=True)\n",
    "\n",
    "from IPython import display\n",
    "from scipy import io, optimize\n",
    "from sklearn import metrics\n",
    "\n",
    "import core\n",
    "import dynamicals\n",
    "import kernels\n",
    "import numericals\n",
    "import utils"
   ]
  },
  {
   "cell_type": "code",
   "execution_count": null,
   "metadata": {
    "collapsed": true
   },
   "outputs": [],
   "source": [
    "dynamical = dynamicals.ProteinSignallingTransductionWithoutKm() "
   ]
  },
  {
   "cell_type": "markdown",
   "metadata": {},
   "source": [
    "# Example\n",
    "Run the inference algorithm"
   ]
  },
  {
   "cell_type": "code",
   "execution_count": null,
   "metadata": {
    "collapsed": true,
    "scrolled": false
   },
   "outputs": [],
   "source": [
    "config = core.Config()\n",
    "config.create_time(0, 100, 20, 0, 100, 20, 0, 100, 20)\n",
    "t_indices = np.array([0, 1, 2, 4, 5, 7, 10, 15, 20, 30, 40, 50, 60, 80, 100]) * config.spl_freq\n",
    "t_indices = np.array([0, 1, 2, 4, 5, 7, 10, 15, 20, 30, 40, 50, 60, 80, 100]) * config.spl_freq\n",
    "config.obs_tps = config.obs_tps[t_indices]\n",
    "config.obs_t_indices = config.obs_t_indices[t_indices]\n",
    "config.est_tps = config.est_tps[t_indices]\n",
    "config.est_t_indices = config.est_t_indices[t_indices]\n",
    "\n",
    "config.X_0 = np.array([1., 0., 1., 0., 0.]) \n",
    "config.theta = np.array([0.07, 0.6, 0.05, 0.3, 0.017]) \n",
    "config.rho_2 = None\n",
    "\n",
    "config.phi = [\n",
    "    # (Kernal name, Kernal parameters)\n",
    "    ('sigmoid', np.array([1., .4, 16.])),\n",
    "    ('sigmoid', np.array([.44, .2, 8.])),\n",
    "    ('sigmoid', np.array([.83, 3, 3.1])),\n",
    "    ('sigmoid', np.array([.62, 1., 1.1])),\n",
    "    ('sigmoid', np.array([.83, 2.9, 3])),\n",
    "]\n",
    "config.sigma_2 = np.full(dynamical.num_x, 1e-2) \n",
    "config.delta = np.full(dynamical.num_x, True)\n",
    "config.gamma = np.array([1e-3, 1e-3, 1e-5, 1e-5, 5e-3])\n",
    "\n",
    "config.opt_method = 'Newton-CG'\n",
    "config.opt_tol = 1e-6\n",
    "config.max_init_iter = None\n",
    "config.max_iter = 2000\n",
    "\n",
    "config.plotting_enabled = True\n",
    "config.plotting_freq = 1\n",
    "\n",
    "config.debug = True\n",
    "\n",
    "config.spl_X = dynamical.generate_sample_path(config.theta, config.rho_2, config.X_0, config.spl_tps)\n",
    "config.obs_Y = utils.collect_observations(config.spl_X, config.obs_t_indices, config.sigma_2)\n",
    "\n",
    "gp = core.GaussianProcessRegression(dynamical, config)\n",
    "gp.run()\n",
    "\n",
    "lpmf = core.LaplaceMeanFieldSymbolic(dynamical, config, gp)    \n",
    "lpmf.construct_theta_objective_functions(False, True)\n",
    "lpmf.construct_X_objective_functions(False, True)\n",
    "lpmf.run()"
   ]
  },
  {
   "cell_type": "markdown",
   "metadata": {},
   "source": [
    "# Experiments\n",
    "Setup for the experiment"
   ]
  },
  {
   "cell_type": "code",
   "execution_count": null,
   "metadata": {
    "collapsed": true
   },
   "outputs": [],
   "source": [
    "num_repetitions = 10\n",
    "directory = '../data/ode-protein-without-km/{}/'\n",
    "config_filename = utils.CONFIG_FILENAME\n",
    "data_filename = utils.DATA_FILENAME\n",
    "plotting_config = {\n",
    "    'x': {\n",
    "        'xlim': (0, 100),\n",
    "        'ylim': (0., 1.2)\n",
    "    }\n",
    "}"
   ]
  },
  {
   "cell_type": "markdown",
   "metadata": {},
   "source": [
    "Run experiments for positivity constraint on theta"
   ]
  },
  {
   "cell_type": "code",
   "execution_count": null,
   "metadata": {
    "collapsed": true,
    "scrolled": false
   },
   "outputs": [],
   "source": [
    "for repetition in range(1, num_repetitions + 1):\n",
    "    print('Starting repetition {}'.format(repetition))\n",
    "    config = core.Config()\n",
    "    config.load_config(directory.format(repetition), config_filename)\n",
    "    gp = core.GaussianProcessRegression(dynamical, config)\n",
    "    gp.run()\n",
    "    lpmf = core.LaplaceMeanFieldSymbolic(dynamical, config, gp)    \n",
    "    lpmf.construct_theta_objective_functions(False, True)\n",
    "    lpmf.construct_X_objective_functions(False, True)\n",
    "    lpmf.run()"
   ]
  },
  {
   "cell_type": "markdown",
   "metadata": {},
   "source": [
    "# Analysis\n",
    "Load data for plotting"
   ]
  },
  {
   "cell_type": "code",
   "execution_count": null,
   "metadata": {
    "collapsed": true
   },
   "outputs": [],
   "source": [
    "data = []\n",
    "for repetition in range(1, num_repetitions + 1):\n",
    "    tmp = utils.load_data(directory.format(repetition), data_filename.format(repetition))\n",
    "    data.append(tmp)\n",
    "    \n",
    "config = core.Config()\n",
    "config.load_config(directory.format(repetition), config_filename) "
   ]
  },
  {
   "cell_type": "markdown",
   "metadata": {},
   "source": [
    "Plot the state estimation result and the RMSE"
   ]
  },
  {
   "cell_type": "code",
   "execution_count": null,
   "metadata": {
    "collapsed": true
   },
   "outputs": [],
   "source": [
    "X_mean = utils.get_X_mean(data)\n",
    "X_var = utils.get_X_var(data)\n",
    "\n",
    "figure = plt.figure(figsize=(12, 6))\n",
    "for i in range(dynamical.num_x):\n",
    "    ax = figure.add_subplot(2, 3, i + 1)\n",
    "    ax.plot(config.spl_tps, config.spl_X[i], color='C0', linewidth=1.5, label='Path')\n",
    "    if config.delta[i]:\n",
    "        ax.scatter(config.obs_tps, config.obs_Y[i], color='C1', marker='x', label='Observation')\n",
    "    ax.errorbar(config.est_tps, X_mean[i], color='C2', linestyle='--', linewidth=1.5,\n",
    "                yerr=np.sqrt(X_var[i]), ecolor='0', elinewidth=1., capsize=3., capthick=.5, label='Estimation')    \n",
    "    ax.set_ylabel(dynamical.x_labels[i])\n",
    "    ax.set_xlabel('Time')\n",
    "    handles, labels = ax.get_legend_handles_labels()\n",
    "    ax.legend(handles=handles, labels=labels, loc=0) \n",
    "    ax.set_ylim([0, 1.1])  \n",
    "    \n",
    "boxprops = dict(linestyle='-', linewidth=1., color='0')\n",
    "medianprops = dict(linestyle='-', linewidth=1.2, color='red')\n",
    "meanpointprops = dict(marker='D', markersize=6., markeredgecolor='green', markerfacecolor='green')\n",
    "\n",
    "rmse = []\n",
    "for i in range(5):\n",
    "    rmse_i = []    \n",
    "    for j in range(num_repetitions):                   \n",
    "        rmse_i.append(metrics.mean_squared_error(data[j]['eta_X'][i], config.spl_X[i][config.est_t_indices]))\n",
    "    rmse_i = np.sqrt(rmse_i)\n",
    "    rmse.append(rmse_i)\n",
    "        \n",
    "ax = figure.add_subplot(2, 3, 6)\n",
    "ax.boxplot(rmse, labels=dynamical.x_labels, notch=False, showfliers=False, showmeans=True, \n",
    "           boxprops=boxprops, medianprops=medianprops, meanprops=meanpointprops, whis=[5, 95])  \n",
    "ax.set_xlabel('State')\n",
    "ax.set_ylabel('RMSE')\n",
    "\n",
    "\n",
    "figure.tight_layout()\n",
    "plt.show()    \n",
    "\n",
    "figure.savefig('protein-states-without-km.eps', format='eps', dpi=1000, bbox_inches='tight')"
   ]
  },
  {
   "cell_type": "markdown",
   "metadata": {},
   "source": [
    "Plot parameter estimation result"
   ]
  },
  {
   "cell_type": "code",
   "execution_count": null,
   "metadata": {
    "collapsed": true,
    "scrolled": false
   },
   "outputs": [],
   "source": [
    "parameters = []\n",
    "parameters_true = []\n",
    "for i in range(5):\n",
    "    parameters_i = []    \n",
    "    for j in range(num_repetitions):                   \n",
    "        parameters_i.append(data[j]['eta_theta'][i])\n",
    "    parameters.append(parameters_i)    \n",
    "    \n",
    "\n",
    "figure = plt.figure(figsize=plt.figaspect(1))\n",
    "ax = figure.add_subplot(1, 1, 1)\n",
    "labels = ['$' + label + '$' for label in dynamical.theta_labels]\n",
    "ax.boxplot(parameters, labels=labels, notch=False, showfliers=False, showmeans=True, \n",
    "           boxprops=boxprops, medianprops=medianprops, meanprops=meanpointprops, whis=[5, 95])        \n",
    "ax.set_xlabel('Parameter')\n",
    "j = 0\n",
    "for i in ax.get_xticks():\n",
    "    ax.scatter(i, config.theta[j], color='C0', marker='x')\n",
    "    j += 1\n",
    "\n",
    "\n",
    "figure.tight_layout()\n",
    "plt.show()    \n",
    "\n",
    "figure.savefig('protein-parameters-without-km.eps', format='eps', dpi=1000, bbox_inches='tight')"
   ]
  }
 ],
 "metadata": {
  "kernelspec": {
   "display_name": "Python 3",
   "language": "python",
   "name": "python3"
  },
  "language_info": {
   "codemirror_mode": {
    "name": "ipython",
    "version": 3
   },
   "file_extension": ".py",
   "mimetype": "text/x-python",
   "name": "python",
   "nbconvert_exporter": "python",
   "pygments_lexer": "ipython3",
   "version": "3.6.2"
  }
 },
 "nbformat": 4,
 "nbformat_minor": 2
}
