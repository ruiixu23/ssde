{
 "cells": [
  {
   "cell_type": "code",
   "execution_count": null,
   "metadata": {
    "collapsed": true
   },
   "outputs": [],
   "source": [
    "# %load init.py\n",
    "import os\n",
    "import pickle\n",
    "import sys\n",
    "# Enable module import from the parent directory from notebooks\n",
    "sys.path.append(os.path.abspath('..'))\n",
    "import time\n",
    "\n",
    "import matplotlib as mpl\n",
    "# Select plotting backend\n",
    "mpl.use('nbAgg')\n",
    "\n",
    "import matplotlib.pyplot as plt\n",
    "# Customize plotting\n",
    "plt.style.use('seaborn-paper')\n",
    "plt.rcParams['axes.labelsize'] = 11.0\n",
    "plt.rcParams['axes.titlesize'] = 12.0\n",
    "plt.rcParams['errorbar.capsize'] = 3.0\n",
    "plt.rcParams['figure.dpi'] = 72.0\n",
    "plt.rcParams['figure.titlesize'] = 12.0\n",
    "plt.rcParams['legend.fontsize'] = 10.\n",
    "plt.rcParams['lines.linewidth'] = 1.\n",
    "plt.rcParams['xtick.labelsize'] = 11.0\n",
    "plt.rcParams['ytick.labelsize'] = 11.0\n",
    "\n",
    "import numpy as np\n",
    "import sympy as sp\n",
    "sp.init_printing(euler=True, use_latex=True)\n",
    "\n",
    "from IPython import display\n",
    "from scipy import io, optimize\n",
    "from sklearn import metrics\n",
    "\n",
    "import core\n",
    "import dynamicals\n",
    "import kernels\n",
    "import numericals\n",
    "import utils"
   ]
  },
  {
   "cell_type": "code",
   "execution_count": null,
   "metadata": {
    "collapsed": true
   },
   "outputs": [],
   "source": [
    "dynamical = dynamicals.ProteinSignallingTransductionWithoutKm() "
   ]
  },
  {
   "cell_type": "code",
   "execution_count": null,
   "metadata": {
    "collapsed": true,
    "scrolled": false
   },
   "outputs": [],
   "source": [
    "spl_t_0, spl_t_T, spl_freq = 0, 100, 20\n",
    "obs_t_0, obs_t_T, obs_freq = 0, 100, 20\n",
    "est_t_0, est_t_T, est_freq = 0, 100, 20\n",
    "spl_tps, obs_tps, obs_t_indices, est_tps, est_t_indices = utils.create_time(\n",
    "    spl_t_0, spl_t_T, spl_freq, obs_t_0, obs_t_T, obs_freq, est_t_0, est_t_T, est_freq)\n",
    "t_indices = np.array([0, 1, 2, 4, 5, 7, 10, 15, 20, 30, 40, 50, 60, 80, 100]) * spl_freq\n",
    "obs_tps = obs_tps[t_indices]\n",
    "obs_t_indices = obs_t_indices[t_indices]\n",
    "est_tps = est_tps[t_indices]\n",
    "est_t_indices = est_t_indices[t_indices]\n",
    "X_0 = np.array([1., 0., 1., 0., 0.]) \n",
    "theta = np.array([0.07, 0.6, 0.05, 0.3, 0.017]) \n",
    "rho_2 = None\n",
    "sigma_2 = np.full(dynamical.num_x, 1e-2) \n",
    "delta = np.full(dynamical.num_x, True) \n",
    "# gamma = np.full(dynamical.num_x, 5e-3) \n",
    "gamma = np.array([1e-4, 1e-4, 2e-6, 1e-5, 5e-2])\n",
    "phi = [\n",
    "    # (Kernal name, Kernal parameters)\n",
    "    ('sigmoid', np.array([1., .4, 15.])),\n",
    "    ('sigmoid', np.array([.18, .6, 25.])),\n",
    "    ('sigmoid', np.array([.84, 3., 3.1])),\n",
    "    ('sigmoid', np.array([.62, 2., 2.1])),\n",
    "    ('sigmoid', np.array([.84, 3., 2.9])),\n",
    "]\n",
    "\n",
    "opt_method = 'Newton-CG'\n",
    "opt_tol = 1e-6\n",
    "max_init_iter = None\n",
    "max_iter = 2000\n",
    "\n",
    "plotting_enabled = True\n",
    "plotting_freq = 50\n",
    "plotting_config = {\n",
    "    'x': {\n",
    "        'xlim': (0, 100),\n",
    "        'ylim': (0., 1.2)\n",
    "    }\n",
    "}"
   ]
  },
  {
   "cell_type": "code",
   "execution_count": null,
   "metadata": {
    "collapsed": true
   },
   "outputs": [],
   "source": [
    "num_repetitions = 10\n",
    "directory = '../data/ode-protein-without-km/'\n",
    "config_filename = utils.CONFIG_FILENAME\n",
    "data_filename = utils.DATA_FILENAME"
   ]
  },
  {
   "cell_type": "code",
   "execution_count": null,
   "metadata": {
    "collapsed": true
   },
   "outputs": [],
   "source": [
    "spl_X = dynamical.generate_sample_path(theta, rho_2, X_0, spl_tps)"
   ]
  },
  {
   "cell_type": "code",
   "execution_count": null,
   "metadata": {
    "collapsed": true
   },
   "outputs": [],
   "source": [
    "utils.save_ode_config(directory, config_filename,\n",
    "                      spl_t_0, spl_t_T, spl_freq, spl_tps,\n",
    "                      obs_t_0, obs_t_T, obs_freq, obs_tps, obs_t_indices,\n",
    "                      est_t_0, est_t_T, est_freq, est_tps, est_t_indices,\n",
    "                      X_0, theta, rho_2, phi, sigma_2, delta, gamma,\n",
    "                      opt_method, opt_tol, max_init_iter, max_iter,\n",
    "                      plotting_enabled, plotting_freq, spl_X)"
   ]
  },
  {
   "cell_type": "code",
   "execution_count": null,
   "metadata": {
    "collapsed": true
   },
   "outputs": [],
   "source": [
    "(spl_t_0, spl_t_T, spl_tps, spl_freq,\n",
    " obs_t_0, obs_t_T, est_freq, obs_tps, obs_t_indices,\n",
    " est_t_0, est_t_T, est_freq, est_tps, est_t_indices,\n",
    " X_0, theta, rho_2, phi, sigma_2, delta, gamma,\n",
    " opt_method, opt_tol, max_init_iter, max_iter, plotting_enabled, plotting_freq,\n",
    " spl_X) = utils.load_ode_config(directory, config_filename)"
   ]
  },
  {
   "cell_type": "code",
   "execution_count": null,
   "metadata": {
    "collapsed": true,
    "scrolled": false
   },
   "outputs": [],
   "source": [
    "for repetition in range(1, num_repetitions + 1):\n",
    "    print('Starting repetition {}'.format(i))    \n",
    "    obs_Y = utils.collect_observations(spl_X, obs_t_indices, sigma_2, [0, None])\n",
    "    data = core.laplace_mean_field(dynamical, \n",
    "                                   spl_X, spl_tps, \n",
    "                                   obs_Y, obs_tps, obs_t_indices, \n",
    "                                   est_tps, est_t_indices,\n",
    "                                   theta, rho_2, phi, sigma_2, delta, gamma,\n",
    "                                   opt_method, opt_tol, max_init_iter, max_iter,\n",
    "                                   plotting_enabled, plotting_freq)\n",
    "    data['obs_Y'] = obs_Y\n",
    "    utils.save_data(directory, data_filename.format(repetition), data)"
   ]
  },
  {
   "cell_type": "code",
   "execution_count": null,
   "metadata": {
    "collapsed": true
   },
   "outputs": [],
   "source": [
    "data = []\n",
    "for i in range(num_repetitions):\n",
    "    data.append(utils.load_data(directory, data_filename.format(i + 1)))"
   ]
  },
  {
   "cell_type": "code",
   "execution_count": null,
   "metadata": {
    "collapsed": true,
    "scrolled": false
   },
   "outputs": [],
   "source": [
    "figure = plt.figure(figsize=plt.figaspect(5 / 9))\n",
    "\n",
    "bar_width = 0.3\n",
    "bar_indices = np.arange(theta.size)\n",
    "ax = figure.add_subplot(2, 3, 1)\n",
    "ax.bar(bar_indices, theta, bar_width, color='C0', label='Truth')\n",
    "ax.bar(bar_indices + bar_width, utils.get_theta_mean(data), bar_width, color='C2', label='Estimation',\n",
    "               yerr= 2 * np.sqrt(utils.get_theta_var(data)),\n",
    "               error_kw=dict(ecolor='0.5', capsize=3., capthick=.5))\n",
    "ax.set_ylabel('Value')\n",
    "ax.set_title('Theta')\n",
    "ax.set_xticks(bar_indices + bar_width / 2)\n",
    "ax.set_xticklabels([r'${}$'.format(label) for label in dynamical.theta_labels])\n",
    "ax.set_ylim([0, .8])\n",
    "handles, labels = ax.get_legend_handles_labels()\n",
    "ax.legend(handles=handles, labels=labels, loc=0)\n",
    "\n",
    "X_mean = utils.get_X_mean(data)\n",
    "X_var = utils.get_X_var(data)\n",
    "\n",
    "for i in range(dynamical.num_x):\n",
    "    ax = figure.add_subplot(2, 3, 2 + i)\n",
    "    ax.plot(spl_tps, spl_X[i], color='C0', linestyle='-', linewidth=1.5, label='Sample path')\n",
    "    if delta[i]:\n",
    "        ax.scatter(obs_tps, obs_Y[i], color='C1', marker='x', label='Observation')\n",
    "    ax.errorbar(est_tps, X_mean[i], color='C2', linestyle='--', linewidth=1.5, label='Estimation', \n",
    "                yerr=2 * np.sqrt(X_var[i]), ecolor='0.5', capsize=3., capthick=.5)\n",
    "    ax.set_xlabel('Time')\n",
    "    ax.set_ylabel('Value')\n",
    "    ax.set_title(r'State ${}$'.format(dynamical.x_labels[i]))\n",
    "    ax.set_xlim([spl_t_0, spl_t_T])\n",
    "    ax.set_ylim([0, 1.1])\n",
    "    handles, labels = ax.get_legend_handles_labels()\n",
    "    ax.legend(handles=handles, labels=labels, loc=0)\n",
    "\n",
    "figure.tight_layout()\n",
    "\n",
    "plt.show()"
   ]
  }
 ],
 "metadata": {
  "kernelspec": {
   "display_name": "Python 3",
   "language": "python",
   "name": "python3"
  },
  "language_info": {
   "codemirror_mode": {
    "name": "ipython",
    "version": 3
   },
   "file_extension": ".py",
   "mimetype": "text/x-python",
   "name": "python",
   "nbconvert_exporter": "python",
   "pygments_lexer": "ipython3",
   "version": "3.6.2"
  }
 },
 "nbformat": 4,
 "nbformat_minor": 2
}
