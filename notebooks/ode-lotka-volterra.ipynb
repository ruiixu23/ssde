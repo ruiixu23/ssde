{
 "cells": [
  {
   "cell_type": "code",
   "execution_count": null,
   "metadata": {
    "collapsed": true
   },
   "outputs": [],
   "source": [
    "# %load init.py\n",
    "import os\n",
    "import pickle\n",
    "import sys\n",
    "# Enable module import from the parent directory from notebooks\n",
    "sys.path.append(os.path.abspath('..'))\n",
    "import time\n",
    "\n",
    "import matplotlib as mpl\n",
    "# Select plotting backend\n",
    "mpl.use('nbAgg')\n",
    "\n",
    "import matplotlib.pyplot as plt\n",
    "# Customize plotting\n",
    "plt.style.use('seaborn-paper')\n",
    "plt.rcParams['axes.labelsize'] = 11.0\n",
    "plt.rcParams['axes.titlesize'] = 12.0\n",
    "plt.rcParams['errorbar.capsize'] = 3.0\n",
    "plt.rcParams['figure.dpi'] = 72.0\n",
    "plt.rcParams['figure.titlesize'] = 12.0\n",
    "plt.rcParams['legend.fontsize'] = 10.\n",
    "plt.rcParams['lines.linewidth'] = 1.\n",
    "plt.rcParams['xtick.labelsize'] = 11.0\n",
    "plt.rcParams['ytick.labelsize'] = 11.0\n",
    "\n",
    "import numpy as np\n",
    "import sympy as sp\n",
    "sp.init_printing(euler=True, use_latex=True)\n",
    "\n",
    "from IPython import display\n",
    "from scipy import io, optimize\n",
    "from sklearn import metrics\n",
    "\n",
    "import core\n",
    "import dynamicals\n",
    "import kernels\n",
    "import numericals\n",
    "import utils"
   ]
  },
  {
   "cell_type": "code",
   "execution_count": null,
   "metadata": {
    "collapsed": true
   },
   "outputs": [],
   "source": [
    "dynamical = dynamicals.LotkaVolterra()"
   ]
  },
  {
   "cell_type": "markdown",
   "metadata": {},
   "source": [
    "# Example"
   ]
  },
  {
   "cell_type": "markdown",
   "metadata": {},
   "source": [
    "Run the inference algorithm"
   ]
  },
  {
   "cell_type": "code",
   "execution_count": null,
   "metadata": {
    "collapsed": true
   },
   "outputs": [],
   "source": [
    "config = core.Config()\n",
    "config.create_time(0, 2, 100, 0, 2, 10, 0, 2, 10)\n",
    "config.X_0 = np.array([5., 3.]) \n",
    "config.theta = np.array([2., 1., 1., 4.]) \n",
    "config.rho_2 = None\n",
    "config.phi = [\n",
    "    # (Kernal name, Kernal parameters)\n",
    "    ('rbf', np.sqrt([2.5, 0.02])),\n",
    "    ('rbf', np.sqrt([2.5, 0.02]))\n",
    "]\n",
    "config.sigma_2 = np.array([0.1, 0.1]) \n",
    "config.delta = np.full(dynamical.num_x, True)\n",
    "config.gamma = np.array([5e-3, 5e-3]) \n",
    "\n",
    "config.opt_method = 'Newton-CG'\n",
    "config.opt_tol = 1e-6\n",
    "config.max_init_iter = None\n",
    "config.max_iter = 2000\n",
    "\n",
    "config.plotting_enabled = True\n",
    "config.plotting_freq = 50\n",
    "\n",
    "config.debug = False\n",
    "\n",
    "config.spl_X = dynamical.generate_sample_path(config.theta, config.rho_2, config.X_0, config.spl_tps)\n",
    "config.obs_Y = utils.collect_observations(config.spl_X, config.obs_t_indices, config.sigma_2)\n",
    "\n",
    "gp = core.GaussianProcessRegression(dynamical, config)\n",
    "gp.run()\n",
    "\n",
    "lpmf = core.LaplaceMeanFieldODE(dynamical, config, gp)\n",
    "lpmf.run()"
   ]
  },
  {
   "cell_type": "markdown",
   "metadata": {},
   "source": [
    "# Experiments"
   ]
  },
  {
   "cell_type": "markdown",
   "metadata": {},
   "source": [
    "Setup for the experiment"
   ]
  },
  {
   "cell_type": "code",
   "execution_count": null,
   "metadata": {
    "collapsed": true
   },
   "outputs": [],
   "source": [
    "num_repetitions = 10\n",
    "directory = '../data/ode-lotka-volterra/{}/'\n",
    "config_filename = utils.CONFIG_FILENAME\n",
    "data_filename = utils.DATA_FILENAME\n",
    "pos_data_filename = '{}-data-theta-pos.pickle'\n",
    "vgmgp_directory = '/Users/ruifengxu/Development/ethz/gp_matching_for_benchmark_systems/results/Lotka_Volterra/{}/'\n",
    "vgmgp_config_filename = 'lpmf.mat'"
   ]
  },
  {
   "cell_type": "markdown",
   "metadata": {},
   "source": [
    "Run experiments"
   ]
  },
  {
   "cell_type": "code",
   "execution_count": null,
   "metadata": {
    "collapsed": true,
    "scrolled": false
   },
   "outputs": [],
   "source": [
    "for repetition in range(1, num_repetitions + 1):\n",
    "    print('Starting repetition {}'.format(repetition))\n",
    "    config = core.Config()\n",
    "    config.load_config(directory.format(repetition), config_filename)\n",
    "    gp = core.GaussianProcessRegression(dynamical, config)\n",
    "    gp.run()\n",
    "    lpmf = core.LaplaceMeanFieldODE(dynamical, config, gp)\n",
    "    lpmf.run()\n",
    "    lpmf.save_result(directory.format(repetition), data_filename.format(repetition))"
   ]
  },
  {
   "cell_type": "markdown",
   "metadata": {},
   "source": [
    "Run experiments for positivity constraint on theta"
   ]
  },
  {
   "cell_type": "code",
   "execution_count": null,
   "metadata": {
    "collapsed": true
   },
   "outputs": [],
   "source": [
    "for repetition in range(1, num_repetitions + 1):\n",
    "    print('Starting repetition {}'.format(repetition))\n",
    "    config = core.Config()\n",
    "    config.load_config(directory.format(repetition), config_filename)\n",
    "    \n",
    "    config.debug = True\n",
    "    \n",
    "    gp = core.GaussianProcessRegression(dynamical, config)\n",
    "    gp.run()\n",
    "    \n",
    "    lpmf = core.LaplaceMeanFieldSymbolic(dynamical, config, gp)    \n",
    "    lpmf.construct_theta_objective_functions(False, True)\n",
    "    lpmf.construct_X_objective_functions(False, True)\n",
    "    lpmf.run()\n",
    "    lpmf.save_result(directory.format(repetition), pos_data_filename.format(repetition)) "
   ]
  },
  {
   "cell_type": "markdown",
   "metadata": {},
   "source": [
    "# Plotting"
   ]
  },
  {
   "cell_type": "markdown",
   "metadata": {},
   "source": [
    "Load data for plotting"
   ]
  },
  {
   "cell_type": "code",
   "execution_count": null,
   "metadata": {
    "collapsed": true
   },
   "outputs": [],
   "source": [
    "lpmf_data = []\n",
    "pos_data = []\n",
    "vgmgp_data = []\n",
    "for repetition in range(1, num_repetitions + 1):\n",
    "    tmp = utils.load_data(directory.format(repetition), data_filename.format(repetition))\n",
    "    lpmf_data.append(tmp)\n",
    "    \n",
    "    tmp = utils.load_data(directory.format(repetition), pos_data_filename.format(repetition))\n",
    "    pos_data.append(tmp)\n",
    "    \n",
    "    with open(os.path.join(vgmgp_directory.format(repetition), vgmgp_config_filename), 'rb') as infile:\n",
    "        tmp = io.loadmat(infile)    \n",
    "        tmp['eta_X'] = tmp['est_X']\n",
    "        tmp['eta_theta'] = tmp['est_theta'].ravel()\n",
    "        tmp['eta_theta'][2],  tmp['eta_theta'][3] = tmp['eta_theta'][3],  tmp['eta_theta'][2]\n",
    "        vgmgp_data.append(tmp)\n",
    "        \n",
    "config = core.Config()\n",
    "config.load_config(directory.format(repetition), config_filename)   "
   ]
  },
  {
   "cell_type": "markdown",
   "metadata": {},
   "source": [
    "Plot the state estimation result and the RMSE"
   ]
  },
  {
   "cell_type": "code",
   "execution_count": null,
   "metadata": {
    "collapsed": true
   },
   "outputs": [],
   "source": [
    "figure = plt.figure(figsize=(12, 4))\n",
    "\n",
    "# State estimation\n",
    "X_means = [\n",
    "    utils.get_X_mean(lpmf_data), \n",
    "    utils.get_X_mean(pos_data), \n",
    "    utils.get_X_mean(vgmgp_data)\n",
    "]\n",
    "X_vars = [\n",
    "    utils.get_X_var(lpmf_data), \n",
    "    utils.get_X_var(pos_data), \n",
    "    utils.get_X_var(vgmgp_data)\n",
    "]\n",
    "titles = ['LPMF', 'LPMF-POS', 'VGMGP']\n",
    "\n",
    "for i in range(3):\n",
    "    ax = figure.add_subplot(1, 4, i + 1)\n",
    "    ax.plot(config.spl_tps, config.spl_X[0], color='C0', linewidth=1.5, label='Sample path')\n",
    "    ax.scatter(config.obs_tps, config.obs_Y[0], color='C1', marker='x', label='Observation')\n",
    "    ax.errorbar(config.est_tps, X_means[i][0], color='C2', linestyle='--', linewidth=1.5,\n",
    "                yerr=np.sqrt(X_vars[i][0]), ecolor='0', elinewidth=1., capsize=3., capthick=.5, label='Estimation')\n",
    "    \n",
    "    ax.plot(config.spl_tps, config.spl_X[1], color='C0', linewidth=1.5)\n",
    "    ax.scatter(config.obs_tps, config.obs_Y[1], color='C1', marker='x')\n",
    "    ax.errorbar(config.est_tps, X_means[i][1], color='C2', linestyle='--', linewidth=1.5,\n",
    "                yerr=np.sqrt(X_vars[i][1]), ecolor='0', elinewidth=1., capsize=3., capthick=.5)\n",
    "    ax.set_xlabel('Time')\n",
    "    ax.set_ylabel('State')\n",
    "    ax.set_title(titles[i])\n",
    "    handles, labels = ax.get_legend_handles_labels()\n",
    "    ax.legend(handles=handles, labels=labels, loc=0)    \n",
    "\n",
    "# RMSE\n",
    "boxprops = dict(linestyle='-', linewidth=1., color='0')\n",
    "medianprops = dict(linestyle='-', linewidth=1.2, color='red')\n",
    "meanpointprops = dict(marker='D', markersize=6., markeredgecolor='green', markerfacecolor='green')\n",
    "\n",
    "lpmf_rmse = []\n",
    "pos_rmse = []\n",
    "vgmgp_rmse = []\n",
    "\n",
    "for i in range(num_repetitions):\n",
    "    lpmf_tmp = 0\n",
    "    pos_tmp = 0\n",
    "    vgmgp_tmp = 0\n",
    "    for j in range(2):\n",
    "        lpmf_tmp += metrics.mean_squared_error(lpmf_data[i]['eta_X'][j], vgmgp_data[i]['spl_X_true'][j])\n",
    "        pos_tmp += metrics.mean_squared_error(pos_data[i]['eta_X'][j], vgmgp_data[i]['spl_X_true'][j])\n",
    "        vgmgp_tmp += metrics.mean_squared_error(vgmgp_data[i]['eta_X'][j], vgmgp_data[i]['spl_X_true'][j])\n",
    "    lpmf_rmse.append(0.5 * lpmf_tmp)\n",
    "    pos_rmse.append(0.5 * pos_tmp)\n",
    "    vgmgp_rmse.append(0.5 * vgmgp_tmp)\n",
    "    \n",
    "    \n",
    "lpmf_rmse = np.sqrt(lpmf_rmse)\n",
    "pos_rmse = np.sqrt(pos_rmse)\n",
    "vgmgp_rmse = np.sqrt(vgmgp_rmse)\n",
    "\n",
    "rmse_data = [\n",
    "    lpmf_rmse,\n",
    "    pos_rmse,\n",
    "    vgmgp_rmse\n",
    "]                      \n",
    "ax = figure.add_subplot(1, 4, 4)\n",
    "ax.boxplot(rmse_data, labels=titles, notch=False, showfliers=False, showmeans=True, \n",
    "           boxprops=boxprops, medianprops=medianprops, meanprops=meanpointprops, whis=[5, 95])\n",
    "ax.set_ylabel('RMSE')\n",
    "ax.set_xlabel('Method')\n",
    "\n",
    "figure.tight_layout()\n",
    "plt.show()\n",
    "figure.savefig('lotka-states.eps', format='eps', dpi=1000, bbox_inches='tight')"
   ]
  },
  {
   "cell_type": "markdown",
   "metadata": {},
   "source": [
    "Ploting parameter estimation"
   ]
  },
  {
   "cell_type": "code",
   "execution_count": null,
   "metadata": {
    "collapsed": true
   },
   "outputs": [],
   "source": [
    "figure = plt.figure(figsize=(8, 8))\n",
    "for i in range(4):\n",
    "    lpmf_theta = []\n",
    "    pos_theta = []\n",
    "    vgmgp_theta = []\n",
    "    for j in range(num_repetitions):\n",
    "        lpmf_theta.append(lpmf_data[j]['eta_theta'][i])\n",
    "        pos_theta.append(pos_data[j]['eta_theta'][i])\n",
    "        vgmgp_theta.append(vgmgp_data[j]['eta_theta'][i])\n",
    "        \n",
    "    ax = figure.add_subplot(2, 2, i + 1)\n",
    "    theta_data = [\n",
    "        lpmf_theta,\n",
    "        pos_theta,\n",
    "        vgmgp_theta\n",
    "    ]\n",
    "    ax.boxplot(theta_data, labels=titles, notch=False, showfliers=False, showmeans=True, \n",
    "               boxprops=boxprops, medianprops=medianprops, meanprops=meanpointprops, whis=[5, 95])\n",
    "    ax.set_ylabel('$' + dynamical.theta_labels[i] + '$', fontsize=14)\n",
    "    ax.plot(np.arange(6), np.full(6, config.theta[i]), linestyle='--', label='Truth')\n",
    "    ax.set_xlabel('Method')\n",
    "    handles, labels = ax.get_legend_handles_labels()\n",
    "    ax.legend(handles=handles, labels=labels, loc=0)     \n",
    "    \n",
    "figure.tight_layout()\n",
    "plt.show()\n",
    "figure.savefig('lotka-parameters-boxplot.eps', format='eps', dpi=1000, bbox_inches='tight')"
   ]
  },
  {
   "cell_type": "markdown",
   "metadata": {},
   "source": [
    "Plot runtime"
   ]
  },
  {
   "cell_type": "code",
   "execution_count": null,
   "metadata": {
    "collapsed": true
   },
   "outputs": [],
   "source": [
    "lpmf_runtime = []\n",
    "pos_runtime = []\n",
    "vgmgp_runtime = []\n",
    "for i in range(num_repetitions):\n",
    "    lpmf_runtime.append(lpmf_data[i]['runtime'])\n",
    "    pos_runtime.append(pos_data[i]['runtime'])\n",
    "    vgmgp_runtime.append(vgmgp_data[i]['runtime'])\n",
    "    \n",
    "figure = plt.figure(figsize=plt.figaspect(1))\n",
    "ax = plt.gca()\n",
    "runtime_data = [\n",
    "    lpmf_runtime,\n",
    "    pos_runtime,\n",
    "    vgmgp_runtime\n",
    "]\n",
    "ax.boxplot(runtime_data, labels=titles, notch=False, showfliers=False, showmeans=True, \n",
    "           boxprops=boxprops, medianprops=medianprops, meanprops=meanpointprops, whis=[5, 95])\n",
    "ax.set_ylabel('Runtime (s)')\n",
    "ax.set_xlabel('Method')\n",
    "figure.tight_layout()\n",
    "plt.show()    \n",
    "figure.savefig('lotka-runtime-boxplot.eps', format='eps', dpi=1000, bbox_inches='tight')"
   ]
  },
  {
   "cell_type": "code",
   "execution_count": null,
   "metadata": {
    "collapsed": true
   },
   "outputs": [],
   "source": [
    "# Helper to transform the Lotka-Volterra experiment using VGMGP\n",
    "config = core.Config()\n",
    "config.create_time(0, 2, 100, 0, 2, 10, 0, 2, 10)\n",
    "config.X_0 = np.array([5., 3.]) \n",
    "config.theta = np.array([2., 1., 1., 4.]) \n",
    "config.rho_2 = None\n",
    "\n",
    "config.phi = [\n",
    "    # (Kernal name, Kernal parameters)\n",
    "    ('rbf', np.sqrt([2.5, 0.02])),\n",
    "    ('rbf', np.sqrt([2.5, 0.02]))\n",
    "]\n",
    "config.sigma_2 = np.array([0.1, 0.1]) \n",
    "config.delta = np.full(2, True)\n",
    "config.gamma = np.array([5e-3, 5e-3]) \n",
    "\n",
    "config.opt_method = 'Newton-CG'\n",
    "config.opt_tol = 1e-6\n",
    "config.max_init_iter = None\n",
    "config.max_iter = 2000\n",
    "\n",
    "config.plotting_enabled = False\n",
    "config.plotting_freq = 50\n",
    "config.plotting_config = None\n",
    "\n",
    "directory = '../data/ode-lotka-volterra/{}/'\n",
    "\n",
    "for repetition in range(1, num_repetitions + 1):\n",
    "    with open(os.path.join(directory.format(repetition), 'lpmf.mat'), 'rb') as infile:\n",
    "        config_mat = io.loadmat(infile)\n",
    "    config.spl_X = config_mat['spl_X']\n",
    "    config.obs_Y = config_mat['obs_Y']\n",
    "    config.save_config(directory.format(repetition), config_filename)"
   ]
  },
  {
   "cell_type": "code",
   "execution_count": null,
   "metadata": {
    "collapsed": true
   },
   "outputs": [],
   "source": [
    "# Helper to check that the result are matching\n",
    "for repetition in range(1, num_repetitions + 1):\n",
    "    with open(os.path.join(directory.format(repetition), 'lpmf.mat'), 'rb') as infile:\n",
    "        config_mat = io.loadmat(infile)    \n",
    "\n",
    "    config_i = utils.load_data(directory.format(repetition), config_filename)\n",
    "    \n",
    "    assert np.alltrue(config_mat['spl_X'] == config_i['spl_X'])\n",
    "    \n",
    "    with open(os.path.join(vgmgp_directory.format(repetition), vgmgp_config_filename), 'rb') as infile:\n",
    "        config_mat_original = io.loadmat(infile)\n",
    "        \n",
    "    assert np.alltrue(config_mat['spl_X'] == config_mat_original['spl_X'])\n",
    "    \n",
    "    for j in range(repetition, num_repetitions + 1):\n",
    "        config_j = utils.load_data(directory.format(j), config_filename)\n",
    "        if repetition == j:\n",
    "            assert np.all(config_i['obs_Y'] == config_j['obs_Y'])\n",
    "        else:\n",
    "            assert np.any(config_i['obs_Y'] != config_j['obs_Y'])        "
   ]
  }
 ],
 "metadata": {
  "kernelspec": {
   "display_name": "Python 3",
   "language": "python",
   "name": "python3"
  },
  "language_info": {
   "codemirror_mode": {
    "name": "ipython",
    "version": 3
   },
   "file_extension": ".py",
   "mimetype": "text/x-python",
   "name": "python",
   "nbconvert_exporter": "python",
   "pygments_lexer": "ipython3",
   "version": "3.6.2"
  }
 },
 "nbformat": 4,
 "nbformat_minor": 2
}
