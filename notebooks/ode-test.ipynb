{
 "cells": [
  {
   "cell_type": "code",
   "execution_count": null,
   "metadata": {
    "collapsed": true
   },
   "outputs": [],
   "source": [
    "# %load init.py\n",
    "import os\n",
    "import pickle\n",
    "import sys\n",
    "# Enable module import from the parent directory from notebooks\n",
    "sys.path.append(os.path.abspath('..'))\n",
    "import time\n",
    "\n",
    "import matplotlib as mpl\n",
    "# Select plotting backend\n",
    "mpl.use('nbAgg')\n",
    "\n",
    "import matplotlib.pyplot as plt\n",
    "# Customize plotting\n",
    "plt.style.use('seaborn-paper')\n",
    "plt.rcParams['axes.labelsize'] = 11.0\n",
    "plt.rcParams['axes.titlesize'] = 12.0\n",
    "plt.rcParams['errorbar.capsize'] = 3.0\n",
    "plt.rcParams['figure.dpi'] = 72.0\n",
    "plt.rcParams['figure.titlesize'] = 12.0\n",
    "plt.rcParams['legend.fontsize'] = 10.\n",
    "plt.rcParams['lines.linewidth'] = 1.\n",
    "plt.rcParams['xtick.labelsize'] = 11.0\n",
    "plt.rcParams['ytick.labelsize'] = 11.0\n",
    "\n",
    "import numpy as np\n",
    "import sympy as sp\n",
    "sp.init_printing(euler=True, use_latex=True)\n",
    "\n",
    "from IPython import display\n",
    "from scipy import io, optimize\n",
    "from sklearn import metrics\n",
    "\n",
    "import core\n",
    "import dynamicals\n",
    "import kernels\n",
    "import numericals\n",
    "import utils"
   ]
  },
  {
   "cell_type": "markdown",
   "metadata": {},
   "source": [
    "Lotka-Volterra model"
   ]
  },
  {
   "cell_type": "code",
   "execution_count": null,
   "metadata": {},
   "outputs": [],
   "source": [
    "dynamical = dynamicals.LotkaVolterra()\n",
    "config = core.Config()\n",
    "config.create_time(0, 2, 100, 0, 2, 10, 0, 2, 10)\n",
    "config.X_0 = np.array([5., 3.]) \n",
    "config.theta = np.array([2., 1., 1., 4.]) \n",
    "config.rho_2 = None\n",
    "config.phi = [\n",
    "    # (Kernal name, Kernal parameters)\n",
    "    ('rbf', np.sqrt([2.5, 0.02])),\n",
    "    ('rbf', np.sqrt([2.5, 0.02]))\n",
    "]\n",
    "config.sigma_2 = np.array([0.1, 0.1]) \n",
    "config.delta = np.full(dynamical.num_x, True)\n",
    "config.gamma = np.array([5e-3, 5e-3]) \n",
    "\n",
    "config.opt_method = 'Newton-CG'\n",
    "config.opt_tol = 1e-6\n",
    "config.max_init_iter = None\n",
    "config.max_iter = 2000\n",
    "\n",
    "config.plotting_enabled = False\n",
    "config.plotting_freq = 50\n",
    "\n",
    "config.debug = True"
   ]
  },
  {
   "cell_type": "markdown",
   "metadata": {},
   "source": [
    "Lorenz 63 model"
   ]
  },
  {
   "cell_type": "code",
   "execution_count": null,
   "metadata": {
    "collapsed": true
   },
   "outputs": [],
   "source": [
    "dynamical = dynamicals.Lorenz63()\n",
    "config = core.Config()\n",
    "config.create_time(0, 10, 20, 0, 10, 2, 0, 10, 2)\n",
    "config.X_0 = np.random.random(3) * 10.\n",
    "config.theta = np.array([10., 28., 8. / 3])\n",
    "config.rho_2 = None\n",
    "\n",
    "config.phi = [\n",
    "    # (Kernal name, Kernal parameters)\n",
    "    ('rbf', np.array([3.6, 0.15])),\n",
    "    ('rbf', np.array([3.6, 0.15])),\n",
    "    ('rbf', np.array([3.6, 0.15]))\n",
    "]\n",
    "config.sigma_2 = np.full(dynamical.num_x, 2.)\n",
    "config.delta = np.full(dynamical.num_x, True)\n",
    "config.gamma = np.full(dynamical.num_x, 1e-4) \n",
    "\n",
    "config.opt_method = 'Newton-CG'\n",
    "config.opt_tol = 1e-6\n",
    "config.max_init_iter = 5\n",
    "config.max_iter = 2000\n",
    "\n",
    "config.plotting_enabled = False\n",
    "config.plotting_freq = 50\n",
    "\n",
    "config.debug = True"
   ]
  },
  {
   "cell_type": "markdown",
   "metadata": {},
   "source": [
    "Lorenz 96 model"
   ]
  },
  {
   "cell_type": "code",
   "execution_count": null,
   "metadata": {
    "collapsed": true
   },
   "outputs": [],
   "source": [
    "dynamical = dynamicals.Lorenz96()\n",
    "\n",
    "config = core.Config()\n",
    "config.create_time(0, 2, 40, 0, 2, 5, 0, 2, 5)\n",
    "\n",
    "config.X_0 = np.random.random(dynamical.num_x) * 8.\n",
    "config.theta = np.array([8.]) \n",
    "config.rho_2 = None\n",
    "config.phi = [\n",
    "    # (Kernal name, Kernal parameters)\n",
    "    ('rbf', np.array([4.5, 0.1]))\n",
    "] * dynamical.num_x\n",
    "\n",
    "config.sigma_2 = np.full(dynamical.num_x, 1.) \n",
    "config.delta = np.full(dynamical.num_x, True)\n",
    "config.delta[np.random.permutation(dynamical.num_x)[:int(0.35 * dynamical.num_x)]] = False\n",
    "config.gamma = np.full(dynamical.num_x, 5e-2) \n",
    "config.gamma[config.delta] = 1e-1\n",
    "\n",
    "config.opt_method = 'Newton-CG'\n",
    "config.opt_tol = 1e-6\n",
    "config.max_init_iter = 10\n",
    "config.max_iter = 1000\n",
    "\n",
    "config.plotting_enabled = False\n",
    "config.plotting_freq = 50\n",
    "\n",
    "config.spl_X = dynamical.generate_sample_path(config.theta, config.rho_2, config.X_0, config.spl_tps)\n",
    "config.obs_Y = utils.collect_observations(config.spl_X, config.obs_t_indices, config.sigma_2)\n",
    "\n",
    "config.debug = True"
   ]
  },
  {
   "cell_type": "code",
   "execution_count": null,
   "metadata": {},
   "outputs": [],
   "source": [
    "config.spl_X = dynamical.generate_sample_path(config.theta, config.rho_2, config.X_0, config.spl_tps)\n",
    "config.obs_Y = utils.collect_observations(config.spl_X, config.obs_t_indices, config.sigma_2)\n",
    "\n",
    "gp = core.GaussianProcessRegression(dynamical, config)\n",
    "gp.run()\n",
    "\n",
    "lpmf = core.LaplaceMeanFieldODE(dynamical, config, gp)\n",
    "lpmf.init_optimization()\n",
    "\n",
    "lpmf_sym = core.LaplaceMeanFieldSymbolic(dynamical, config, gp)\n",
    "lpmf_sym.construct_X_objective_functions(False, False)\n",
    "lpmf_sym.construct_theta_objective_functions(False, False)\n",
    "lpmf_sym.init_optimization()\n",
    "\n",
    "eta_X = lpmf.eta_X\n",
    "eta_theta = lpmf.eta_theta\n",
    "lpmf_sym.eta_theta[:] = lpmf.eta_theta.copy()\n",
    "\n",
    "for it in range(5):\n",
    "    print('Test case {}'.format(it + 1))\n",
    "    for i in range(dynamical.num_x):\n",
    "        # Simulating updating eta_X        \n",
    "        eta_X[i] = np.random.random(config.est_tps.size) * 10\n",
    "\n",
    "        lpmf.i = i\n",
    "        x_objective, x_gradient = lpmf.x_objective_and_gradient(eta_X[i])\n",
    "        x_hessian = lpmf.x_Hessian(eta_X[i])\n",
    "\n",
    "        lpmf_sym.i = i\n",
    "        x_objective_sym, x_gradient_sym = lpmf_sym.x_objective_and_gradient(eta_X[i])\n",
    "        x_hessian_sym = lpmf_sym.x_Hessian(eta_X[i])\n",
    "\n",
    "        print(\n",
    "            'State', i + 1, '|',\n",
    "            'Objective matched:', np.allclose(x_objective, x_objective_sym), '|',\n",
    "            'Gradient matched:', np.allclose(x_gradient, x_gradient_sym), '|', \n",
    "            'Hessian matched:', np.allclose(x_hessian, x_hessian_sym)\n",
    "        )        \n",
    "    print()   \n",
    "print('Test completed.')"
   ]
  }
 ],
 "metadata": {
  "kernelspec": {
   "display_name": "Python 3",
   "language": "python",
   "name": "python3"
  },
  "language_info": {
   "codemirror_mode": {
    "name": "ipython",
    "version": 3
   },
   "file_extension": ".py",
   "mimetype": "text/x-python",
   "name": "python",
   "nbconvert_exporter": "python",
   "pygments_lexer": "ipython3",
   "version": "3.6.2"
  }
 },
 "nbformat": 4,
 "nbformat_minor": 2
}
